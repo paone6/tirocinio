{
 "metadata": {
  "language_info": {
   "codemirror_mode": {
    "name": "ipython",
    "version": 3
   },
   "file_extension": ".py",
   "mimetype": "text/x-python",
   "name": "python",
   "nbconvert_exporter": "python",
   "pygments_lexer": "ipython3",
   "version": "3.6.12-final"
  },
  "orig_nbformat": 2,
  "kernelspec": {
   "name": "python3",
   "display_name": "Python 3",
   "language": "python"
  }
 },
 "nbformat": 4,
 "nbformat_minor": 2,
 "cells": [
  {
   "cell_type": "code",
   "execution_count": 1,
   "metadata": {},
   "outputs": [],
   "source": [
    "# Import librerie\n",
    "import numpy as np\n",
    "import pandas as pd\n",
    "import matplotlib.pyplot as plt\n",
    "import my_dataset_frame\n",
    "from sklearn import datasets, svm, metrics\n",
    "from sklearn.model_selection import train_test_split\n",
    "from sklearn import svm\n"
   ]
  },
  {
   "cell_type": "code",
   "execution_count": 2,
   "metadata": {},
   "outputs": [],
   "source": [
    "dataset = my_dataset_frame.load_my_dataset()"
   ]
  },
  {
   "cell_type": "code",
   "execution_count": 3,
   "metadata": {},
   "outputs": [],
   "source": [
    "clf = svm.SVC(gamma=0.001, C=100.)\n"
   ]
  },
  {
   "cell_type": "code",
   "execution_count": 37,
   "metadata": {},
   "outputs": [],
   "source": [
    "c = (255*(dataset.data[0] - np.min(dataset.data[0]))/np.ptp(dataset.data[0])).astype(int)        \n"
   ]
  },
  {
   "cell_type": "code",
   "execution_count": 39,
   "metadata": {},
   "outputs": [
    {
     "output_type": "stream",
     "name": "stdout",
     "text": [
      "[ 57 113 147 179 217 255 217 173 141 104  52  23 110 147 176 234 176 144\n 107  55  89 121 159 197 159 115  84  46   5  34  52  89 118 176 118  86\n  49  34  66 104 141 104  60  28   8  60  89   2  34  63 121  63  31   5\n  31  69 107  69  26   5  43  95 124  37   0  28  86  28   2  40  37  75\n  37   5  37  75 127 156  69  31   2  55   2  34  72  37   0  43  75 113\n 165 194 107  69  40  17  40  72 110  37  81 113 150 202 231 144 107  78\n  20  78 110 147  43  75 113 165 194 107  69  40  17  40  72 110  31  69\n 121 150  63  26   2  60   2  28  66  37  89 118  31   5  34  92  34   2\n  34  52  81   5  43  72 130  72  40   2  28  57  95 124 182 124  92  55\n  86 124 153 211 153 121  84  37  66 124  66  34   2  28  86  28   2  40\n  57   0  31  69  57  89 127  31  69  37]\n[20.0 39.0 51.0 62.0 75.0 88.0 75.0 60.0 49.0 36.0 18.0 8.0 38.0 51.0 61.0\n 81.0 61.0 50.0 37.0 19.0 31.0 42.0 55.0 68.0 55.0 40.0 29.0 16.0 2.0 12.0\n 18.0 31.0 41.0 61.0 41.0 30.0 17.0 12.0 23.0 36.0 49.0 36.0 21.0 10.0 3.0\n 21.0 31.0 1.0 12.0 22.0 42.0 22.0 11.0 2.0 11.0 24.0 37.0 24.0 9.0 2.0\n 15.0 33.0 43.0 13.0 0.0 10.0 30.0 10.0 1.0 14.0 13.0 26.0 13.0 2.0 13.0\n 26.0 44.0 54.0 24.0 11.0 1.0 19.0 1.0 12.0 25.0 13.0 0.0 15.0 26.0 39.0\n 57.0 67.0 37.0 24.0 14.0 6.0 14.0 25.0 38.0 13.0 28.0 39.0 52.0 70.0 80.0\n 50.0 37.0 27.0 7.0 27.0 38.0 51.0 15.0 26.0 39.0 57.0 67.0 37.0 24.0 14.0\n 6.0 14.0 25.0 38.0 11.0 24.0 42.0 52.0 22.0 9.0 1.0 21.0 1.0 10.0 23.0\n 13.0 31.0 41.0 11.0 2.0 12.0 32.0 12.0 1.0 12.0 18.0 28.0 2.0 15.0 25.0\n 45.0 25.0 14.0 1.0 10.0 20.0 33.0 43.0 63.0 43.0 32.0 19.0 30.0 43.0 53.0\n 73.0 53.0 42.0 29.0 13.0 23.0 43.0 23.0 12.0 1.0 10.0 30.0 10.0 1.0 14.0\n 20.0 0.0 11.0 24.0 20.0 31.0 44.0 11.0 24.0 13.0]\n"
     ]
    }
   ],
   "source": [
    "print(c)\n",
    "print(dataset.data[0])"
   ]
  },
  {
   "cell_type": "code",
   "execution_count": 5,
   "metadata": {},
   "outputs": [
    {
     "output_type": "execute_result",
     "data": {
      "text/plain": [
       "array([[20.0, 39.0, 51.0, ..., 11.0, 24.0, 13.0],\n",
       "       [20.0, 39.0, 51.0, ..., 11.0, 24.0, 13.0],\n",
       "       [21.0, 40.0, 51.0, ..., 12.0, 24.0, 12.0],\n",
       "       ...,\n",
       "       [7.0, 15.0, 22.0, ..., 7.0, 14.0, 7.0],\n",
       "       [7.0, 16.0, 22.0, ..., 7.0, 14.0, 7.0],\n",
       "       [8.0, 17.0, 24.0, ..., 7.0, 14.0, 7.0]], dtype=object)"
      ]
     },
     "metadata": {},
     "execution_count": 5
    }
   ],
   "source": [
    "dataset.data"
   ]
  },
  {
   "cell_type": "code",
   "execution_count": 6,
   "metadata": {},
   "outputs": [
    {
     "output_type": "execute_result",
     "data": {
      "text/plain": [
       "(1996,)"
      ]
     },
     "metadata": {},
     "execution_count": 6
    }
   ],
   "source": [
    "dataset.target.shape"
   ]
  },
  {
   "cell_type": "code",
   "execution_count": 7,
   "metadata": {},
   "outputs": [
    {
     "output_type": "execute_result",
     "data": {
      "text/plain": [
       "array([1, 1, 1, ..., 4, 4, 4])"
      ]
     },
     "metadata": {},
     "execution_count": 7
    }
   ],
   "source": [
    "dataset.target"
   ]
  },
  {
   "cell_type": "code",
   "execution_count": 8,
   "metadata": {},
   "outputs": [
    {
     "output_type": "execute_result",
     "data": {
      "text/plain": [
       "SVC(C=100.0, gamma=0.001)"
      ]
     },
     "metadata": {},
     "execution_count": 8
    }
   ],
   "source": [
    "clf.fit(dataset.data,dataset.target)"
   ]
  },
  {
   "cell_type": "code",
   "execution_count": 9,
   "metadata": {},
   "outputs": [],
   "source": [
    "df=pd.read_csv('/Users/paone/Desktop/csv_computati/4_1_1_4_30_37.csv', sep=',',header=None)"
   ]
  },
  {
   "cell_type": "code",
   "execution_count": 10,
   "metadata": {},
   "outputs": [],
   "source": [
    "a = clf.predict(df)"
   ]
  },
  {
   "cell_type": "code",
   "execution_count": 11,
   "metadata": {},
   "outputs": [
    {
     "output_type": "execute_result",
     "data": {
      "text/plain": [
       "array([4, 4, 4, 4, 4, 4, 4, 4, 4, 4, 4, 4, 4, 4, 4, 4, 4, 4, 4, 4, 4, 4,\n",
       "       4, 4, 4, 4, 4, 4, 4, 4, 4, 4, 4, 4, 4, 4, 4, 4, 4, 4, 4, 4, 4, 4,\n",
       "       4, 4, 4, 4, 4, 4, 4, 4, 4, 4, 4, 4, 4, 4, 4, 4, 4, 4, 4, 4, 4, 4,\n",
       "       4, 4, 4, 4, 4, 4, 4, 4, 4, 4, 4, 4, 4, 4, 4, 4, 4, 4, 4, 4, 4, 4,\n",
       "       4, 4, 4, 4, 4, 4, 4, 4, 4, 4, 4, 4, 4, 4, 4, 4, 4, 4, 4, 4, 4, 4,\n",
       "       4, 4, 4, 4, 4, 4, 4, 4, 4, 4, 4, 4, 4, 4, 4, 4, 4, 4, 4, 4, 4, 4,\n",
       "       4, 4, 4, 4, 4, 4, 4, 4, 4, 4, 4, 4, 4, 4, 4, 4, 4, 4, 4, 4, 4, 4,\n",
       "       4, 4, 4, 4, 4, 4, 4, 4, 4, 4, 4, 4, 4, 4, 4, 4, 4, 4, 4, 4, 4, 4,\n",
       "       4, 4, 4, 4, 4, 4, 4, 4, 4, 4, 4, 4, 4, 4, 4, 4, 4, 4, 4, 4, 4, 4,\n",
       "       4, 4, 4, 4, 4, 4, 4, 4, 4, 4, 4, 4, 4, 4, 4, 4, 4, 4, 4, 4, 4, 4,\n",
       "       4, 4, 4, 4, 4, 4, 4, 4, 4, 4, 4, 4, 4, 4, 4, 4, 4, 4, 4, 4, 4, 4,\n",
       "       4, 4, 4, 4, 4, 4, 4, 4, 4, 4, 4, 4, 4, 4, 4, 4, 4, 4, 4, 4, 4, 4,\n",
       "       4, 4, 4, 4, 4, 4, 4, 4, 4, 4, 4, 4, 4, 4, 4, 4, 4, 4, 4, 4, 4, 4,\n",
       "       4, 4, 4, 4, 4, 4, 4, 4, 4, 4, 4, 4, 4, 4, 4, 4, 4, 4, 4, 4, 4, 4,\n",
       "       4, 4, 4, 4, 4, 4, 4, 4, 4, 4, 4, 4, 4, 4, 4, 4, 4, 4, 4, 4, 4, 4,\n",
       "       4, 4, 4, 4, 4, 4, 4, 4, 4, 4, 4, 4, 4, 4, 4, 4, 4, 4, 4, 4, 4, 4,\n",
       "       4, 4, 4, 4, 4, 4, 4, 4, 4, 4, 4, 4, 4, 4, 4, 4, 4, 4, 4, 4, 4, 4,\n",
       "       4, 4, 4, 4, 4, 4, 4, 4, 4, 4, 4, 4, 4, 4, 4, 4, 4, 4, 4, 4, 4, 4,\n",
       "       4, 4, 4, 4, 4, 4, 4, 4, 4, 4, 4, 4, 4, 4, 4, 4, 4, 4, 4, 4, 4, 4,\n",
       "       4, 4, 4, 4, 4, 4, 4, 4, 4, 4, 4, 4, 4, 4, 4, 4, 4, 4, 4, 4, 4, 4,\n",
       "       4, 4, 4, 4, 4, 4, 4, 4, 4, 4])"
      ]
     },
     "metadata": {},
     "execution_count": 11
    }
   ],
   "source": [
    "a"
   ]
  },
  {
   "cell_type": "code",
   "execution_count": 12,
   "metadata": {},
   "outputs": [],
   "source": [
    "ylist = []\n",
    "for val in a:\n",
    "    ylist.append(4)\n",
    "y = np.array(ylist)"
   ]
  },
  {
   "cell_type": "code",
   "execution_count": 13,
   "metadata": {},
   "outputs": [],
   "source": [
    "from sklearn.metrics import accuracy_score\n"
   ]
  },
  {
   "cell_type": "code",
   "execution_count": 14,
   "metadata": {},
   "outputs": [
    {
     "output_type": "execute_result",
     "data": {
      "text/plain": [
       "(450,)"
      ]
     },
     "metadata": {},
     "execution_count": 14
    }
   ],
   "source": [
    "y.shape"
   ]
  },
  {
   "cell_type": "code",
   "execution_count": 15,
   "metadata": {},
   "outputs": [
    {
     "output_type": "execute_result",
     "data": {
      "text/plain": [
       "(450,)"
      ]
     },
     "metadata": {},
     "execution_count": 15
    }
   ],
   "source": [
    "a.shape"
   ]
  },
  {
   "cell_type": "code",
   "execution_count": 16,
   "metadata": {},
   "outputs": [
    {
     "output_type": "stream",
     "name": "stdout",
     "text": [
      "1.0\n"
     ]
    }
   ],
   "source": [
    "print(accuracy_score(y, a))"
   ]
  },
  {
   "cell_type": "code",
   "execution_count": 17,
   "metadata": {},
   "outputs": [
    {
     "output_type": "execute_result",
     "data": {
      "text/plain": [
       "numpy.ndarray"
      ]
     },
     "metadata": {},
     "execution_count": 17
    }
   ],
   "source": [
    "type(a)"
   ]
  },
  {
   "cell_type": "code",
   "execution_count": 18,
   "metadata": {},
   "outputs": [],
   "source": [
    "tot4, tot3, tot2, tot1 = 0, 0, 0, 0\n",
    "for val in a:\n",
    "    if(val==4):\n",
    "        tot4 +=1\n",
    "    elif(val==3):\n",
    "        tot3 +=1\n",
    "    elif(val==2):\n",
    "        tot2 +=1\n",
    "    elif(val==1):\n",
    "        tot1 +=1"
   ]
  },
  {
   "cell_type": "code",
   "execution_count": 19,
   "metadata": {},
   "outputs": [
    {
     "output_type": "stream",
     "name": "stdout",
     "text": [
      "tot di 4 : 450\ntot di 3 : 0\ntot di 2 : 0\ntot di 1 : 0\n"
     ]
    }
   ],
   "source": [
    "print(\"tot di 4 : \" + str(tot4))\n",
    "print(\"tot di 3 : \" + str(tot3))\n",
    "print(\"tot di 2 : \" + str(tot2))\n",
    "print(\"tot di 1 : \" + str(tot1))"
   ]
  },
  {
   "cell_type": "code",
   "execution_count": null,
   "metadata": {},
   "outputs": [],
   "source": []
  }
 ]
}