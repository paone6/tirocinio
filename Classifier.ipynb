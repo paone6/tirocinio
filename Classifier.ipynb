{
 "metadata": {
  "language_info": {
   "codemirror_mode": {
    "name": "ipython",
    "version": 3
   },
   "file_extension": ".py",
   "mimetype": "text/x-python",
   "name": "python",
   "nbconvert_exporter": "python",
   "pygments_lexer": "ipython3",
   "version": "3.6.12-final"
  },
  "orig_nbformat": 2,
  "kernelspec": {
   "name": "python3",
   "display_name": "Python 3",
   "language": "python"
  }
 },
 "nbformat": 4,
 "nbformat_minor": 2,
 "cells": [
  {
   "source": [
    "# Import librerie\n",
    "import numpy as np\n",
    "import pandas as pd\n",
    "import matplotlib.pyplot as plt\n",
    "from sklearn import datasets, svm, metrics\n",
    "from sklearn.model_selection import train_test_split"
   ],
   "cell_type": "code",
   "metadata": {},
   "execution_count": 2,
   "outputs": []
  },
  {
   "cell_type": "code",
   "execution_count": 3,
   "metadata": {},
   "outputs": [],
   "source": [
    "sourcePath = \"/Users/paone/Desktop/csv_computati\"  \n",
    "for csvFile in os.listdir(sourcePath): \n",
    "    database = pd.read_csv(sourcePath + \"/\" + csvFile,sep = ',', header=0)"
   ]
  },
  {
   "cell_type": "code",
   "execution_count": 5,
   "metadata": {},
   "outputs": [
    {
     "output_type": "execute_result",
     "data": {
      "text/plain": [
       "<bound method NDFrame.head of        1     2     3     4     5     6     7     8     9    10  ...   181  \\\n",
       "0    7.0  18.0  27.0  35.0  47.0  56.0  48.0  37.0  28.0  18.0  ...  15.0   \n",
       "1    7.0  18.0  27.0  35.0  47.0  57.0  48.0  37.0  28.0  19.0  ...  16.0   \n",
       "2    7.0  18.0  27.0  35.0  47.0  57.0  48.0  37.0  28.0  19.0  ...  16.0   \n",
       "3    7.0  17.0  26.0  35.0  47.0  56.0  48.0  37.0  28.0  18.0  ...  15.0   \n",
       "4    7.0  18.0  27.0  35.0  47.0  56.0  48.0  38.0  28.0  19.0  ...  15.0   \n",
       "..   ...   ...   ...   ...   ...   ...   ...   ...   ...   ...  ...   ...   \n",
       "445  7.0  17.0  25.0  33.0  44.0  52.0  45.0  35.0  27.0  18.0  ...  14.0   \n",
       "446  7.0  18.0  26.0  34.0  45.0  54.0  46.0  36.0  27.0  18.0  ...  14.0   \n",
       "447  7.0  17.0  26.0  34.0  45.0  53.0  46.0  36.0  27.0  18.0  ...  14.0   \n",
       "448  7.0  17.0  26.0  34.0  45.0  54.0  46.0  36.0  27.0  18.0  ...  15.0   \n",
       "449  8.0  18.0  26.0  34.0  44.0  53.0  45.0  36.0  27.0  18.0  ...  14.0   \n",
       "\n",
       "     182  183   184   185   186   187  188   189   190  \n",
       "0    0.0  9.0  18.0  15.0  24.0  33.0  9.0  18.0   9.0  \n",
       "1    0.0  9.0  18.0  16.0  25.0  34.0  9.0  18.0   9.0  \n",
       "2    0.0  8.0  18.0  16.0  24.0  34.0  8.0  18.0  10.0  \n",
       "3    0.0  9.0  18.0  15.0  24.0  33.0  9.0  18.0   9.0  \n",
       "4    0.0  8.0  18.0  15.0  23.0  33.0  8.0  18.0  10.0  \n",
       "..   ...  ...   ...   ...   ...   ...  ...   ...   ...  \n",
       "445  1.0  7.0  15.0  13.0  21.0  29.0  8.0  16.0   8.0  \n",
       "446  1.0  7.0  16.0  13.0  21.0  30.0  8.0  17.0   9.0  \n",
       "447  1.0  8.0  16.0  13.0  22.0  30.0  9.0  17.0   8.0  \n",
       "448  1.0  7.0  16.0  14.0  22.0  31.0  8.0  17.0   9.0  \n",
       "449  1.0  8.0  16.0  13.0  22.0  30.0  9.0  17.0   8.0  \n",
       "\n",
       "[450 rows x 190 columns]>"
      ]
     },
     "metadata": {},
     "execution_count": 5
    }
   ],
   "source": [
    "database.head"
   ]
  },
  {
   "cell_type": "code",
   "execution_count": null,
   "metadata": {},
   "outputs": [],
   "source": []
  }
 ]
}